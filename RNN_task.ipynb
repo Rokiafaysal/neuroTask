{
 "cells": [
  {
   "cell_type": "code",
   "execution_count": 6,
   "id": "fba6b84c",
   "metadata": {},
   "outputs": [
    {
     "name": "stdout",
     "output_type": "stream",
     "text": [
      "Epoch 0, Loss: -0.09221661456726268\n",
      "Epoch 100, Loss: -0.09221661456726268\n",
      "Epoch 200, Loss: -0.09221661456726268\n",
      "Epoch 300, Loss: -0.09221661456726268\n",
      "Epoch 400, Loss: -0.09221661456726268\n",
      "Epoch 500, Loss: -0.09221661456726268\n",
      "Epoch 600, Loss: -0.09221661456726268\n",
      "Epoch 700, Loss: -0.09221661456726268\n",
      "Epoch 800, Loss: -0.09221661456726268\n",
      "Epoch 900, Loss: -0.09221661456726268\n",
      "\n",
      "Input: ['the', 'quick', 'brown']\n",
      "Predicted: quick\n",
      "Actual: fox\n"
     ]
    }
   ],
   "source": [
    "class BasicRNN:\n",
    "    def __init__(self, vocab_len, hidden_dim):\n",
    "        self.W_input = [[(i+j+1) % 2 * 0.2 - 0.1 for j in range(hidden_dim)] for i in range(vocab_len)]\n",
    "        self.W_hidden = [[(i+j+1) % 2 * 0.2 - 0.1 for j in range(hidden_dim)] for i in range(hidden_dim)]\n",
    "        self.W_output = [[(i+j+1) % 2 * 0.2 - 0.1 for j in range(vocab_len)] for i in range(hidden_dim)]\n",
    "        self.bias_hidden = [0.1 for _ in range(hidden_dim)]\n",
    "        self.bias_output = [0.1 for _ in range(vocab_len)]\n",
    "        self.hidden_state = [0 for _ in range(hidden_dim)]\n",
    "\n",
    "    def sigmoid(self, x):\n",
    "        return 1 / (1 + (1 / (x + 1e-10)))  \n",
    "\n",
    "    def forward(self, input_vector):\n",
    "        updated_hidden = []\n",
    "        for i in range(len(self.bias_hidden)):\n",
    "            temp = sum(input_vector[j] * self.W_input[j][i] for j in range(len(input_vector)))\n",
    "            temp += sum(self.hidden_state[j] * self.W_hidden[j][i] for j in range(len(self.hidden_state)))\n",
    "            updated_hidden.append(self.sigmoid(temp + self.bias_hidden[i]))  \n",
    "        self.hidden_state = updated_hidden\n",
    "        output_vector = []\n",
    "        for i in range(len(self.bias_output)):\n",
    "            temp = sum(self.hidden_state[j] * self.W_output[j][i] for j in range(len(self.hidden_state)))\n",
    "            output_vector.append(temp + self.bias_output[i])\n",
    "        return output_vector\n",
    "sentence = \"the quick brown fox\"\n",
    "tokens = sentence.split()\n",
    "vocab = list(set(tokens))\n",
    "word_to_index = {word: idx for idx, word in enumerate(vocab)}\n",
    "index_to_word = {idx: word for word, idx in word_to_index.items()}\n",
    "inputs = []\n",
    "for i in range(3):\n",
    "    vec = [0] * len(vocab)\n",
    "    vec[word_to_index[tokens[i]]] = 1\n",
    "    inputs.append(vec)\n",
    "target_idx = word_to_index[tokens[3]]\n",
    "model = BasicRNN(len(vocab), 5)\n",
    "\n",
    "for ep in range(1000): \n",
    "    model.hidden_state = [0] * len(model.bias_hidden)\n",
    "    for vec in inputs:\n",
    "        model.forward(vec)\n",
    "    out = model.forward([0] * len(vocab))\n",
    "    loss = -out[target_idx]\n",
    "    if ep % 100 == 0: \n",
    "        print(f\"Epoch {ep}, Loss: {loss}\")\n",
    "\n",
    "model.hidden_state = [0] * len(model.bias_hidden)\n",
    "for vec in inputs:\n",
    "    model.forward(vec)\n",
    "final_output = model.forward([0] * len(vocab))\n",
    "predicted_word_idx = final_output.index(max(final_output))\n",
    "\n",
    "print(\"\\nInput:\", tokens[:3])\n",
    "print(\"Predicted:\", index_to_word[predicted_word_idx])\n",
    "print(\"Actual:\", tokens[3])\n"
   ]
  },
  {
   "cell_type": "code",
   "execution_count": null,
   "id": "25bc8298",
   "metadata": {},
   "outputs": [],
   "source": []
  }
 ],
 "metadata": {
  "kernelspec": {
   "display_name": "Python 3 (ipykernel)",
   "language": "python",
   "name": "python3"
  },
  "language_info": {
   "codemirror_mode": {
    "name": "ipython",
    "version": 3
   },
   "file_extension": ".py",
   "mimetype": "text/x-python",
   "name": "python",
   "nbconvert_exporter": "python",
   "pygments_lexer": "ipython3",
   "version": "3.11.5"
  }
 },
 "nbformat": 4,
 "nbformat_minor": 5
}
